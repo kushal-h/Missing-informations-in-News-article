{
  "nbformat": 4,
  "nbformat_minor": 0,
  "metadata": {
    "colab": {
      "provenance": [],
      "authorship_tag": "ABX9TyPFGFOrXim3RgkDOIDJim5m",
      "include_colab_link": true
    },
    "kernelspec": {
      "name": "python3",
      "display_name": "Python 3"
    },
    "language_info": {
      "name": "python"
    },
    "accelerator": "GPU",
    "gpuClass": "standard"
  },
  "cells": [
    {
      "cell_type": "markdown",
      "metadata": {
        "id": "view-in-github",
        "colab_type": "text"
      },
      "source": [
        "<a href=\"https://colab.research.google.com/github/kushal-h/Missing-informations-in-News-article/blob/main/Training_model/Missing_news_information_classification_.ipynb\" target=\"_parent\"><img src=\"https://colab.research.google.com/assets/colab-badge.svg\" alt=\"Open In Colab\"/></a>"
      ]
    },
    {
      "cell_type": "code",
      "source": [
        "# pip install -q tf-models-official==2.7.0"
      ],
      "metadata": {
        "id": "49-I5YlPRzzz"
      },
      "execution_count": 2,
      "outputs": []
    },
    {
      "cell_type": "markdown",
      "source": [
        "##Importing necessary libraries"
      ],
      "metadata": {
        "id": "9p1hMWOVbcIf"
      }
    },
    {
      "cell_type": "code",
      "execution_count": 3,
      "metadata": {
        "id": "dAQRRPPZasw8"
      },
      "outputs": [],
      "source": [
        "import numpy as np\n",
        "import pandas as pd\n",
        "import re\n",
        "import tensorflow as tf\n",
        "from tensorflow import keras\n",
        "import math \n",
        "from bs4 import BeautifulSoup\n",
        "from sklearn.metrics import roc_curve, auc\n",
        "import matplotlib.pyplot as plt\n"
      ]
    },
    {
      "cell_type": "code",
      "source": [
        "tf.__version__"
      ],
      "metadata": {
        "colab": {
          "base_uri": "https://localhost:8080/",
          "height": 36
        },
        "id": "5QgKo6QMcEJQ",
        "outputId": "5bfee417-d5c3-4b7d-dd9d-e364e145dcf7"
      },
      "execution_count": 4,
      "outputs": [
        {
          "output_type": "execute_result",
          "data": {
            "text/plain": [
              "'2.9.2'"
            ],
            "application/vnd.google.colaboratory.intrinsic+json": {
              "type": "string"
            }
          },
          "metadata": {},
          "execution_count": 4
        }
      ]
    },
    {
      "cell_type": "markdown",
      "source": [
        "##Loading Dataset"
      ],
      "metadata": {
        "id": "ffw7unDldJU3"
      }
    },
    {
      "cell_type": "code",
      "source": [
        "dataset = pd.read_csv('/content/merged_news_classification.csv', engine = 'python', encoding = 'latin1')"
      ],
      "metadata": {
        "id": "2nPLOUyHcE0D"
      },
      "execution_count": 5,
      "outputs": []
    },
    {
      "cell_type": "markdown",
      "source": [
        "Dataset info\n",
        "\n",
        "Categorizing missing information\n",
        "\n",
        "0 - Complete\n",
        "\n",
        "1 - Incomplete"
      ],
      "metadata": {
        "id": "QYQGaz1Vdh2Y"
      }
    },
    {
      "cell_type": "code",
      "source": [
        "dataset.head()"
      ],
      "metadata": {
        "colab": {
          "base_uri": "https://localhost:8080/",
          "height": 250
        },
        "id": "OKk9QjYEdflL",
        "outputId": "7b14b21c-c092-42d2-fb83-f374b63a7294"
      },
      "execution_count": 6,
      "outputs": [
        {
          "output_type": "execute_result",
          "data": {
            "text/plain": [
              "                                            headline  label  \\\n",
              "0  Death Toll In Kentucky Hits 28 As Infrastructu...      1   \n",
              "1  Vulnerable House Dems See Abortion As Winning ...      0   \n",
              "2  Report: Prince Charles' Charity Got Donation F...      1   \n",
              "3  âDC League Of Super-Petsâ Takes No. 1 With...      1   \n",
              "4  New York City Declares Monkeypox A Public Heal...      1   \n",
              "\n",
              "                                                link  \\\n",
              "0  https://www.huffpost.com/entry/kentucky-flood-...   \n",
              "1  https://www.huffpost.com/entry/vulnerable-hous...   \n",
              "2  https://www.huffpost.com/entry/prince-charles-...   \n",
              "3  https://www.huffpost.com/entry/dc-league-of-su...   \n",
              "4  https://www.huffpost.com/entry/new-york-city-d...   \n",
              "\n",
              "                                   short_description  \n",
              "0  The number of deaths from massive flooding in ...  \n",
              "1  The Supreme Court decision on abortion has scr...  \n",
              "2  The Prince of Walesâs Charitable Fund accept...  \n",
              "3  The superhero spinoff about Supermanâs dog k...  \n",
              "4  As many as 150,000 New York City residents cou...  "
            ],
            "text/html": [
              "\n",
              "  <div id=\"df-83df3df8-f67a-423b-a8e4-ca3bfc25b2c1\">\n",
              "    <div class=\"colab-df-container\">\n",
              "      <div>\n",
              "<style scoped>\n",
              "    .dataframe tbody tr th:only-of-type {\n",
              "        vertical-align: middle;\n",
              "    }\n",
              "\n",
              "    .dataframe tbody tr th {\n",
              "        vertical-align: top;\n",
              "    }\n",
              "\n",
              "    .dataframe thead th {\n",
              "        text-align: right;\n",
              "    }\n",
              "</style>\n",
              "<table border=\"1\" class=\"dataframe\">\n",
              "  <thead>\n",
              "    <tr style=\"text-align: right;\">\n",
              "      <th></th>\n",
              "      <th>headline</th>\n",
              "      <th>label</th>\n",
              "      <th>link</th>\n",
              "      <th>short_description</th>\n",
              "    </tr>\n",
              "  </thead>\n",
              "  <tbody>\n",
              "    <tr>\n",
              "      <th>0</th>\n",
              "      <td>Death Toll In Kentucky Hits 28 As Infrastructu...</td>\n",
              "      <td>1</td>\n",
              "      <td>https://www.huffpost.com/entry/kentucky-flood-...</td>\n",
              "      <td>The number of deaths from massive flooding in ...</td>\n",
              "    </tr>\n",
              "    <tr>\n",
              "      <th>1</th>\n",
              "      <td>Vulnerable House Dems See Abortion As Winning ...</td>\n",
              "      <td>0</td>\n",
              "      <td>https://www.huffpost.com/entry/vulnerable-hous...</td>\n",
              "      <td>The Supreme Court decision on abortion has scr...</td>\n",
              "    </tr>\n",
              "    <tr>\n",
              "      <th>2</th>\n",
              "      <td>Report: Prince Charles' Charity Got Donation F...</td>\n",
              "      <td>1</td>\n",
              "      <td>https://www.huffpost.com/entry/prince-charles-...</td>\n",
              "      <td>The Prince of Walesâs Charitable Fund accept...</td>\n",
              "    </tr>\n",
              "    <tr>\n",
              "      <th>3</th>\n",
              "      <td>âDC League Of Super-Petsâ Takes No. 1 With...</td>\n",
              "      <td>1</td>\n",
              "      <td>https://www.huffpost.com/entry/dc-league-of-su...</td>\n",
              "      <td>The superhero spinoff about Supermanâs dog k...</td>\n",
              "    </tr>\n",
              "    <tr>\n",
              "      <th>4</th>\n",
              "      <td>New York City Declares Monkeypox A Public Heal...</td>\n",
              "      <td>1</td>\n",
              "      <td>https://www.huffpost.com/entry/new-york-city-d...</td>\n",
              "      <td>As many as 150,000 New York City residents cou...</td>\n",
              "    </tr>\n",
              "  </tbody>\n",
              "</table>\n",
              "</div>\n",
              "      <button class=\"colab-df-convert\" onclick=\"convertToInteractive('df-83df3df8-f67a-423b-a8e4-ca3bfc25b2c1')\"\n",
              "              title=\"Convert this dataframe to an interactive table.\"\n",
              "              style=\"display:none;\">\n",
              "        \n",
              "  <svg xmlns=\"http://www.w3.org/2000/svg\" height=\"24px\"viewBox=\"0 0 24 24\"\n",
              "       width=\"24px\">\n",
              "    <path d=\"M0 0h24v24H0V0z\" fill=\"none\"/>\n",
              "    <path d=\"M18.56 5.44l.94 2.06.94-2.06 2.06-.94-2.06-.94-.94-2.06-.94 2.06-2.06.94zm-11 1L8.5 8.5l.94-2.06 2.06-.94-2.06-.94L8.5 2.5l-.94 2.06-2.06.94zm10 10l.94 2.06.94-2.06 2.06-.94-2.06-.94-.94-2.06-.94 2.06-2.06.94z\"/><path d=\"M17.41 7.96l-1.37-1.37c-.4-.4-.92-.59-1.43-.59-.52 0-1.04.2-1.43.59L10.3 9.45l-7.72 7.72c-.78.78-.78 2.05 0 2.83L4 21.41c.39.39.9.59 1.41.59.51 0 1.02-.2 1.41-.59l7.78-7.78 2.81-2.81c.8-.78.8-2.07 0-2.86zM5.41 20L4 18.59l7.72-7.72 1.47 1.35L5.41 20z\"/>\n",
              "  </svg>\n",
              "      </button>\n",
              "      \n",
              "  <style>\n",
              "    .colab-df-container {\n",
              "      display:flex;\n",
              "      flex-wrap:wrap;\n",
              "      gap: 12px;\n",
              "    }\n",
              "\n",
              "    .colab-df-convert {\n",
              "      background-color: #E8F0FE;\n",
              "      border: none;\n",
              "      border-radius: 50%;\n",
              "      cursor: pointer;\n",
              "      display: none;\n",
              "      fill: #1967D2;\n",
              "      height: 32px;\n",
              "      padding: 0 0 0 0;\n",
              "      width: 32px;\n",
              "    }\n",
              "\n",
              "    .colab-df-convert:hover {\n",
              "      background-color: #E2EBFA;\n",
              "      box-shadow: 0px 1px 2px rgba(60, 64, 67, 0.3), 0px 1px 3px 1px rgba(60, 64, 67, 0.15);\n",
              "      fill: #174EA6;\n",
              "    }\n",
              "\n",
              "    [theme=dark] .colab-df-convert {\n",
              "      background-color: #3B4455;\n",
              "      fill: #D2E3FC;\n",
              "    }\n",
              "\n",
              "    [theme=dark] .colab-df-convert:hover {\n",
              "      background-color: #434B5C;\n",
              "      box-shadow: 0px 1px 3px 1px rgba(0, 0, 0, 0.15);\n",
              "      filter: drop-shadow(0px 1px 2px rgba(0, 0, 0, 0.3));\n",
              "      fill: #FFFFFF;\n",
              "    }\n",
              "  </style>\n",
              "\n",
              "      <script>\n",
              "        const buttonEl =\n",
              "          document.querySelector('#df-83df3df8-f67a-423b-a8e4-ca3bfc25b2c1 button.colab-df-convert');\n",
              "        buttonEl.style.display =\n",
              "          google.colab.kernel.accessAllowed ? 'block' : 'none';\n",
              "\n",
              "        async function convertToInteractive(key) {\n",
              "          const element = document.querySelector('#df-83df3df8-f67a-423b-a8e4-ca3bfc25b2c1');\n",
              "          const dataTable =\n",
              "            await google.colab.kernel.invokeFunction('convertToInteractive',\n",
              "                                                     [key], {});\n",
              "          if (!dataTable) return;\n",
              "\n",
              "          const docLinkHtml = 'Like what you see? Visit the ' +\n",
              "            '<a target=\"_blank\" href=https://colab.research.google.com/notebooks/data_table.ipynb>data table notebook</a>'\n",
              "            + ' to learn more about interactive tables.';\n",
              "          element.innerHTML = '';\n",
              "          dataTable['output_type'] = 'display_data';\n",
              "          await google.colab.output.renderOutput(dataTable, element);\n",
              "          const docLink = document.createElement('div');\n",
              "          docLink.innerHTML = docLinkHtml;\n",
              "          element.appendChild(docLink);\n",
              "        }\n",
              "      </script>\n",
              "    </div>\n",
              "  </div>\n",
              "  "
            ]
          },
          "metadata": {},
          "execution_count": 6
        }
      ]
    },
    {
      "cell_type": "code",
      "source": [
        "dataset['headline'][1]"
      ],
      "metadata": {
        "colab": {
          "base_uri": "https://localhost:8080/",
          "height": 36
        },
        "id": "Xm0ypkCMgVCe",
        "outputId": "2c4d9717-0152-47aa-c995-34bd953cd8e9"
      },
      "execution_count": 7,
      "outputs": [
        {
          "output_type": "execute_result",
          "data": {
            "text/plain": [
              "'Vulnerable House Dems See Abortion As Winning Campaign Theme'"
            ],
            "application/vnd.google.colaboratory.intrinsic+json": {
              "type": "string"
            }
          },
          "metadata": {},
          "execution_count": 7
        }
      ]
    },
    {
      "cell_type": "code",
      "source": [
        "dataset.info()"
      ],
      "metadata": {
        "colab": {
          "base_uri": "https://localhost:8080/"
        },
        "id": "rwLxRvyDgago",
        "outputId": "6121a7b1-a34e-4d01-c1c4-63a106c3640e"
      },
      "execution_count": 8,
      "outputs": [
        {
          "output_type": "stream",
          "name": "stdout",
          "text": [
            "<class 'pandas.core.frame.DataFrame'>\n",
            "RangeIndex: 1002 entries, 0 to 1001\n",
            "Data columns (total 4 columns):\n",
            " #   Column             Non-Null Count  Dtype \n",
            "---  ------             --------------  ----- \n",
            " 0   headline           1002 non-null   object\n",
            " 1   label              1002 non-null   int64 \n",
            " 2   link               1002 non-null   object\n",
            " 3   short_description  996 non-null    object\n",
            "dtypes: int64(1), object(3)\n",
            "memory usage: 31.4+ KB\n"
          ]
        }
      ]
    },
    {
      "cell_type": "code",
      "source": [
        "dataset.isna().sum()"
      ],
      "metadata": {
        "colab": {
          "base_uri": "https://localhost:8080/"
        },
        "id": "po8Hg0jxhmJC",
        "outputId": "e465400a-fbb2-440e-ae3c-2650311376b1"
      },
      "execution_count": 9,
      "outputs": [
        {
          "output_type": "execute_result",
          "data": {
            "text/plain": [
              "headline             0\n",
              "label                0\n",
              "link                 0\n",
              "short_description    6\n",
              "dtype: int64"
            ]
          },
          "metadata": {},
          "execution_count": 9
        }
      ]
    },
    {
      "cell_type": "code",
      "source": [
        "dataset['label'].unique()"
      ],
      "metadata": {
        "colab": {
          "base_uri": "https://localhost:8080/"
        },
        "id": "ojJSUzK-hrHk",
        "outputId": "415f3c0d-3a4b-4202-bb66-100b7e4e3962"
      },
      "execution_count": 10,
      "outputs": [
        {
          "output_type": "execute_result",
          "data": {
            "text/plain": [
              "array([1, 0])"
            ]
          },
          "metadata": {},
          "execution_count": 10
        }
      ]
    },
    {
      "cell_type": "markdown",
      "source": [
        "#Cleaning heading using regular expression"
      ],
      "metadata": {
        "id": "5CwWhMlJiOMT"
      }
    },
    {
      "cell_type": "code",
      "source": [
        "def clean_heading(heading):\n",
        "  heading = BeautifulSoup(heading, 'lxml').get_text()\n",
        "  heading = re.sub(r\"@[A-Za-z0-9]+\", \"\", heading)\n",
        "  heading = re.sub(r\"https?://[A-Za-z0-9./]\", \"\", heading)\n",
        "  heading = re.sub(r\"[^A-Za-z]\", \"\", heading)\n",
        "  heading = re.sub(r\" +\", '', heading)\n",
        "  return heading"
      ],
      "metadata": {
        "id": "VmxR5fG6iKO-"
      },
      "execution_count": 11,
      "outputs": []
    },
    {
      "cell_type": "code",
      "source": [
        "data_clean = [clean_heading(heading) for heading in dataset.headline]"
      ],
      "metadata": {
        "id": "6dHMHfLIiszb"
      },
      "execution_count": 12,
      "outputs": []
    },
    {
      "cell_type": "code",
      "source": [
        "data_clean[0]"
      ],
      "metadata": {
        "colab": {
          "base_uri": "https://localhost:8080/",
          "height": 36
        },
        "id": "00A3t6_4iy6A",
        "outputId": "571d8171-437b-4f54-d775-d8c0dda78a26"
      },
      "execution_count": 13,
      "outputs": [
        {
          "output_type": "execute_result",
          "data": {
            "text/plain": [
              "'DeathTollInKentuckyHitsAsInfrastructureDamageHampersFloodRecovery'"
            ],
            "application/vnd.google.colaboratory.intrinsic+json": {
              "type": "string"
            }
          },
          "metadata": {},
          "execution_count": 13
        }
      ]
    },
    {
      "cell_type": "code",
      "source": [
        "data_labels = dataset['label'].values"
      ],
      "metadata": {
        "id": "7X_NkM4ni6QO"
      },
      "execution_count": 14,
      "outputs": []
    },
    {
      "cell_type": "code",
      "source": [
        "2**10"
      ],
      "metadata": {
        "colab": {
          "base_uri": "https://localhost:8080/"
        },
        "id": "GhVzDh5kjomb",
        "outputId": "bbdd57bd-3870-437d-ac94-dd82dde2bd9a"
      },
      "execution_count": 15,
      "outputs": [
        {
          "output_type": "execute_result",
          "data": {
            "text/plain": [
              "1024"
            ]
          },
          "metadata": {},
          "execution_count": 15
        }
      ]
    },
    {
      "cell_type": "markdown",
      "source": [
        "##Tokenizer"
      ],
      "metadata": {
        "id": "64KRjhJ80IqT"
      }
    },
    {
      "cell_type": "code",
      "source": [
        "import tensorflow_datasets as tfds\n",
        "tokenizer = tfds.deprecated.text.SubwordTextEncoder.build_from_corpus(\n",
        "    data_clean,\n",
        "    target_vocab_size = 2**10\n",
        ")\n",
        "     "
      ],
      "metadata": {
        "id": "EJSuv01AjuJ_"
      },
      "execution_count": 16,
      "outputs": []
    },
    {
      "cell_type": "code",
      "source": [
        "tokenizer.save_to_file('tokenizer')"
      ],
      "metadata": {
        "id": "3mH9YX4nj0U1"
      },
      "execution_count": 17,
      "outputs": []
    },
    {
      "cell_type": "code",
      "source": [
        "encoder = tfds.deprecated.text.SubwordTextEncoder.load_from_file('/content/tokenizer')\n",
        "     \n"
      ],
      "metadata": {
        "id": "MLXbxuH3sn4V"
      },
      "execution_count": 18,
      "outputs": []
    },
    {
      "cell_type": "code",
      "source": [
        "data_input = [encoder.encode(sentence) for sentence in data_clean]\n"
      ],
      "metadata": {
        "id": "UVAz5VSpsqIt"
      },
      "execution_count": 19,
      "outputs": []
    },
    {
      "cell_type": "code",
      "source": [
        "data_input[0]\n",
        "     "
      ],
      "metadata": {
        "colab": {
          "base_uri": "https://localhost:8080/"
        },
        "id": "cU5yIC5-sv1j",
        "outputId": "b8440b30-79ce-4818-df5c-0d5b84518f3b"
      },
      "execution_count": 20,
      "outputs": [
        {
          "output_type": "execute_result",
          "data": {
            "text/plain": [
              "[1117,\n",
              " 2656,\n",
              " 2219,\n",
              " 427,\n",
              " 1851,\n",
              " 803,\n",
              " 1372,\n",
              " 72,\n",
              " 1085,\n",
              " 57,\n",
              " 1907,\n",
              " 819,\n",
              " 1199,\n",
              " 1119,\n",
              " 78,\n",
              " 3009,\n",
              " 2059,\n",
              " 3042,\n",
              " 1598,\n",
              " 812]"
            ]
          },
          "metadata": {},
          "execution_count": 20
        }
      ]
    },
    {
      "cell_type": "code",
      "source": [
        "MAX_LEN = max([len(sentence) for sentence in data_input])\n"
      ],
      "metadata": {
        "id": "-8BWtgbFsxhn"
      },
      "execution_count": 21,
      "outputs": []
    },
    {
      "cell_type": "code",
      "source": [
        "MAX_LEN"
      ],
      "metadata": {
        "colab": {
          "base_uri": "https://localhost:8080/"
        },
        "id": "h7J-K4IAszI-",
        "outputId": "12cb0195-8f21-425e-f253-e20aaf929a9a"
      },
      "execution_count": 22,
      "outputs": [
        {
          "output_type": "execute_result",
          "data": {
            "text/plain": [
              "49"
            ]
          },
          "metadata": {},
          "execution_count": 22
        }
      ]
    },
    {
      "cell_type": "code",
      "source": [
        "data_input = tf.keras.preprocessing.sequence.pad_sequences(\n",
        "    data_input, value = 0, padding = 'post', maxlen = MAX_LEN \n",
        ")   "
      ],
      "metadata": {
        "id": "1WHpdn4Js0IB"
      },
      "execution_count": 23,
      "outputs": []
    },
    {
      "cell_type": "code",
      "source": [
        "data_input[0]"
      ],
      "metadata": {
        "colab": {
          "base_uri": "https://localhost:8080/"
        },
        "id": "polmsIT1s2dt",
        "outputId": "3e32bcb2-6460-4432-bb12-f2e7679f517a"
      },
      "execution_count": 24,
      "outputs": [
        {
          "output_type": "execute_result",
          "data": {
            "text/plain": [
              "array([1117, 2656, 2219,  427, 1851,  803, 1372,   72, 1085,   57, 1907,\n",
              "        819, 1199, 1119,   78, 3009, 2059, 3042, 1598,  812,    0,    0,\n",
              "          0,    0,    0,    0,    0,    0,    0,    0,    0,    0,    0,\n",
              "          0,    0,    0,    0,    0,    0,    0,    0,    0,    0,    0,\n",
              "          0,    0,    0,    0,    0], dtype=int32)"
            ]
          },
          "metadata": {},
          "execution_count": 24
        }
      ]
    },
    {
      "cell_type": "markdown",
      "source": [
        "##Splitting into train and test"
      ],
      "metadata": {
        "id": "wWj65Ueks9nQ"
      }
    },
    {
      "cell_type": "code",
      "source": [
        "X = []\n",
        "y = []"
      ],
      "metadata": {
        "id": "CuGjjguts3vV"
      },
      "execution_count": 25,
      "outputs": []
    },
    {
      "cell_type": "code",
      "source": [
        "for i in range(0, len(data_input)):\n",
        "  X.append(data_input[i])\n",
        "  y.append(data_labels[i])"
      ],
      "metadata": {
        "id": "P9XO8pvks62D"
      },
      "execution_count": 26,
      "outputs": []
    },
    {
      "cell_type": "code",
      "source": [
        "print(X[0],\"\\n\")\n",
        "print(\"heading is:\",y[0])     "
      ],
      "metadata": {
        "colab": {
          "base_uri": "https://localhost:8080/"
        },
        "id": "xEvIWrROtAIg",
        "outputId": "80a28f37-e092-45cc-ea5a-e8071a17e198"
      },
      "execution_count": 27,
      "outputs": [
        {
          "output_type": "stream",
          "name": "stdout",
          "text": [
            "[1117 2656 2219  427 1851  803 1372   72 1085   57 1907  819 1199 1119\n",
            "   78 3009 2059 3042 1598  812    0    0    0    0    0    0    0    0\n",
            "    0    0    0    0    0    0    0    0    0    0    0    0    0    0\n",
            "    0    0    0    0    0    0    0] \n",
            "\n",
            "heading is: 1\n"
          ]
        }
      ]
    },
    {
      "cell_type": "code",
      "source": [
        "from sklearn.model_selection import train_test_split\n",
        "X_train, X_test, y_train, y_test = train_test_split(X, y, test_size = 0.2, random_state = 3787,stratify=y )    "
      ],
      "metadata": {
        "id": "9JVVAqNNtElr"
      },
      "execution_count": 28,
      "outputs": []
    },
    {
      "cell_type": "code",
      "source": [
        "print(X_train[0])\n",
        "y_train[0]"
      ],
      "metadata": {
        "colab": {
          "base_uri": "https://localhost:8080/"
        },
        "id": "EGS921A8tHoo",
        "outputId": "c9c0c882-d05d-4bdc-ef0e-74c44774dff3"
      },
      "execution_count": 29,
      "outputs": [
        {
          "output_type": "stream",
          "name": "stdout",
          "text": [
            "[1125 2846  921  551 1588 2447  717   99  789 3331    0    0    0    0\n",
            "    0    0    0    0    0    0    0    0    0    0    0    0    0    0\n",
            "    0    0    0    0    0    0    0    0    0    0    0    0    0    0\n",
            "    0    0    0    0    0    0    0]\n"
          ]
        },
        {
          "output_type": "execute_result",
          "data": {
            "text/plain": [
              "0"
            ]
          },
          "metadata": {},
          "execution_count": 29
        }
      ]
    },
    {
      "cell_type": "code",
      "source": [
        "X_train = np.array(X_train)\n",
        "X_test = np.array(X_test)\n",
        "y_train = np.array(y_train)\n",
        "y_test = np.array(y_test)"
      ],
      "metadata": {
        "id": "XxWX9st0tIsC"
      },
      "execution_count": 30,
      "outputs": []
    },
    {
      "cell_type": "markdown",
      "source": [
        "##Building the Model!"
      ],
      "metadata": {
        "id": "v-ChEKPEtMNZ"
      }
    },
    {
      "cell_type": "code",
      "source": [
        "class DCNN(tf.keras.Model):\n",
        "\n",
        "  def __init__(self, vocab_size, dropout_rate = 0.1, training = False, nb_classes = 2,\n",
        "               FFN_units = 512, nb_filters = 50, emb_dim = 128, name = 'dcnn'):\n",
        "    \n",
        "    super(DCNN, self).__init__(name = name)\n",
        "\n",
        "    self.embedding = tf.keras.layers.Embedding(vocab_size, emb_dim)\n",
        "\n",
        "    self.bigram = tf.keras.layers.Conv1D(filters = nb_filters, padding = 'valid', kernel_size = 2, activation = 'relu')\n",
        "\n",
        "    self.pool1 = tf.keras.layers.GlobalMaxPool1D()\n",
        "\n",
        "    self.trigram = tf.keras.layers.Conv1D(filters = nb_filters, padding = 'valid', kernel_size = 2, activation = 'relu')\n",
        "\n",
        "    self.pool2 = tf.keras.layers.GlobalMaxPool1D()\n",
        "\n",
        "    self.fourgram = tf.keras.layers.Conv1D(filters = nb_filters, padding = 'valid', kernel_size = 2, activation = 'relu')\n",
        "\n",
        "    self.pool3 = tf.keras.layers.GlobalMaxPool1D()\n",
        "\n",
        "    self.dense = tf.keras.layers.Dense(units = FFN_units, activation = 'relu')\n",
        "\n",
        "    self.dropout = tf.keras.layers.Dropout(dropout_rate)\n",
        "\n",
        "    if nb_classes == 2:\n",
        "      self.last_dense = tf.keras.layers.Dense(1, activation = 'sigmoid')\n",
        "\n",
        "    else:\n",
        "      self.last_dense = tf.keras.layers.Dense(nb_classes, activation = 'softmax')\n",
        "\n",
        "\n",
        "\n",
        "  def call(self, inputs, training):\n",
        "    x = self.embedding(inputs)\n",
        "    x_1 = self.bigram(x)\n",
        "    x_1 = self.pool1(x_1)\n",
        "    x_2 = self.trigram(x)\n",
        "    x_2 = self.pool2(x_2)\n",
        "    x_3 = self.fourgram(x)\n",
        "    x_3 = self.pool3(x_3)\n",
        "\n",
        "    merged = tf.concat([x_1, x_2, x_3], axis=-1) # (batch_size, 3 * nb_filters)\n",
        "    merged = self.dense(merged)\n",
        "    merged = self.dropout(merged, training)\n",
        "    output = self.last_dense(merged)\n",
        "\n",
        "    return output\n"
      ],
      "metadata": {
        "id": "fTcXksPetK_x"
      },
      "execution_count": 31,
      "outputs": []
    },
    {
      "cell_type": "markdown",
      "source": [
        "##Config"
      ],
      "metadata": {
        "id": "ehB3-LJ2tRLN"
      }
    },
    {
      "cell_type": "code",
      "source": [
        "VOCAB_SIZE = encoder.vocab_size\n",
        "\n",
        "EMB_DIM = 200\n",
        "NB_FILTERS = 100\n",
        "FFN_UNITS = 256\n",
        "NB_CLASSES = 2 #len(set(train labels))\n",
        "\n",
        "DROPOUT_RATE = 0.2\n",
        "\n",
        "BATCH_SIZE = 32\n",
        "NB_EPOCHS = 100"
      ],
      "metadata": {
        "id": "QD7nl0J6tOiT"
      },
      "execution_count": 32,
      "outputs": []
    },
    {
      "cell_type": "code",
      "source": [
        "model = DCNN(vocab_size=VOCAB_SIZE,\n",
        "            emb_dim=EMB_DIM,\n",
        "            nb_filters=NB_FILTERS,\n",
        "            FFN_units=FFN_UNITS,\n",
        "            nb_classes=NB_CLASSES,\n",
        "            dropout_rate=DROPOUT_RATE)"
      ],
      "metadata": {
        "id": "UWaBxNM7tUlg"
      },
      "execution_count": 33,
      "outputs": []
    },
    {
      "cell_type": "code",
      "source": [
        "\n",
        "if NB_CLASSES == 2:\n",
        "    model.compile(loss=\"binary_crossentropy\",\n",
        "                 optimizer=\"adam\",\n",
        "                 metrics=[\"accuracy\"])\n",
        "else:\n",
        "    model.compile(loss=\"sparse_categorical_crossentropy\",\n",
        "                 optimizer=\"adam\",\n",
        "                 metrics=[\"sparse_categorical_accuracy\"])\n",
        "     "
      ],
      "metadata": {
        "id": "665kZKN2tU2z"
      },
      "execution_count": 34,
      "outputs": []
    },
    {
      "cell_type": "markdown",
      "source": [
        "##Creating Checkpoints\n"
      ],
      "metadata": {
        "id": "q6I4cpD0tiRY"
      }
    },
    {
      "cell_type": "code",
      "source": [
        "checkpoint_path = \"ckpt/\"\n",
        "\n",
        "ckpt = tf.train.Checkpoint(model = model)\n",
        "\n",
        "ckpt_manager = tf.train.CheckpointManager(ckpt, checkpoint_path, max_to_keep = 1 )\n",
        "\n",
        "if ckpt_manager.latest_checkpoint:\n",
        "    ckpt.restore(ckpt_manager.latest_checkpoint)\n",
        "    print(\"Latest checkpoint restored!!\")\n",
        "\n",
        "     "
      ],
      "metadata": {
        "id": "jjrMwN49td2a"
      },
      "execution_count": 35,
      "outputs": []
    },
    {
      "cell_type": "markdown",
      "source": [
        "##Training"
      ],
      "metadata": {
        "id": "dLw1iportnb8"
      }
    },
    {
      "cell_type": "code",
      "source": [
        "history1 = model.fit(X_train, y_train, batch_size = BATCH_SIZE, epochs= NB_EPOCHS, validation_split = 0.1)\n",
        "ckpt_manager.save()\n",
        "     "
      ],
      "metadata": {
        "colab": {
          "base_uri": "https://localhost:8080/",
          "height": 1000
        },
        "id": "sud72lSCtj2A",
        "outputId": "2150a99e-742a-41fe-8e81-d7003e065a1b"
      },
      "execution_count": 36,
      "outputs": [
        {
          "output_type": "stream",
          "name": "stdout",
          "text": [
            "Epoch 1/100\n",
            "23/23 [==============================] - 10s 21ms/step - loss: 0.6790 - accuracy: 0.5917 - val_loss: 0.6591 - val_accuracy: 0.6420\n",
            "Epoch 2/100\n",
            "23/23 [==============================] - 0s 7ms/step - loss: 0.6131 - accuracy: 0.5944 - val_loss: 0.6555 - val_accuracy: 0.6420\n",
            "Epoch 3/100\n",
            "23/23 [==============================] - 0s 7ms/step - loss: 0.4107 - accuracy: 0.8931 - val_loss: 0.6883 - val_accuracy: 0.6296\n",
            "Epoch 4/100\n",
            "23/23 [==============================] - 0s 6ms/step - loss: 0.0911 - accuracy: 0.9958 - val_loss: 0.9281 - val_accuracy: 0.5679\n",
            "Epoch 5/100\n",
            "23/23 [==============================] - 0s 6ms/step - loss: 0.0124 - accuracy: 0.9986 - val_loss: 1.1851 - val_accuracy: 0.6049\n",
            "Epoch 6/100\n",
            "23/23 [==============================] - 0s 6ms/step - loss: 0.0036 - accuracy: 1.0000 - val_loss: 1.2500 - val_accuracy: 0.5679\n",
            "Epoch 7/100\n",
            "23/23 [==============================] - 0s 7ms/step - loss: 0.0016 - accuracy: 1.0000 - val_loss: 1.2922 - val_accuracy: 0.5802\n",
            "Epoch 8/100\n",
            "23/23 [==============================] - 0s 7ms/step - loss: 0.0011 - accuracy: 1.0000 - val_loss: 1.3568 - val_accuracy: 0.5679\n",
            "Epoch 9/100\n",
            "23/23 [==============================] - 0s 6ms/step - loss: 8.1694e-04 - accuracy: 1.0000 - val_loss: 1.3976 - val_accuracy: 0.5802\n",
            "Epoch 10/100\n",
            "23/23 [==============================] - 0s 6ms/step - loss: 5.8451e-04 - accuracy: 1.0000 - val_loss: 1.4319 - val_accuracy: 0.5802\n",
            "Epoch 11/100\n",
            "23/23 [==============================] - 0s 6ms/step - loss: 4.5812e-04 - accuracy: 1.0000 - val_loss: 1.4627 - val_accuracy: 0.5802\n",
            "Epoch 12/100\n",
            "23/23 [==============================] - 0s 7ms/step - loss: 3.4483e-04 - accuracy: 1.0000 - val_loss: 1.4971 - val_accuracy: 0.5802\n",
            "Epoch 13/100\n",
            "23/23 [==============================] - 0s 6ms/step - loss: 3.0160e-04 - accuracy: 1.0000 - val_loss: 1.5258 - val_accuracy: 0.5802\n",
            "Epoch 14/100\n",
            "23/23 [==============================] - 0s 6ms/step - loss: 2.4757e-04 - accuracy: 1.0000 - val_loss: 1.5510 - val_accuracy: 0.5802\n",
            "Epoch 15/100\n",
            "23/23 [==============================] - 0s 7ms/step - loss: 1.9686e-04 - accuracy: 1.0000 - val_loss: 1.5773 - val_accuracy: 0.5802\n",
            "Epoch 16/100\n",
            "23/23 [==============================] - 0s 6ms/step - loss: 1.8336e-04 - accuracy: 1.0000 - val_loss: 1.5978 - val_accuracy: 0.5802\n",
            "Epoch 17/100\n",
            "23/23 [==============================] - 0s 7ms/step - loss: 1.5160e-04 - accuracy: 1.0000 - val_loss: 1.6174 - val_accuracy: 0.5802\n",
            "Epoch 18/100\n",
            "23/23 [==============================] - 0s 6ms/step - loss: 1.4519e-04 - accuracy: 1.0000 - val_loss: 1.6364 - val_accuracy: 0.5802\n",
            "Epoch 19/100\n",
            "23/23 [==============================] - 0s 6ms/step - loss: 1.1766e-04 - accuracy: 1.0000 - val_loss: 1.6529 - val_accuracy: 0.5802\n",
            "Epoch 20/100\n",
            "23/23 [==============================] - 0s 6ms/step - loss: 1.0915e-04 - accuracy: 1.0000 - val_loss: 1.6697 - val_accuracy: 0.5802\n",
            "Epoch 21/100\n",
            "23/23 [==============================] - 0s 6ms/step - loss: 9.9985e-05 - accuracy: 1.0000 - val_loss: 1.6898 - val_accuracy: 0.5802\n",
            "Epoch 22/100\n",
            "23/23 [==============================] - 0s 7ms/step - loss: 8.6167e-05 - accuracy: 1.0000 - val_loss: 1.7082 - val_accuracy: 0.5802\n",
            "Epoch 23/100\n",
            "23/23 [==============================] - 0s 7ms/step - loss: 1.0060e-04 - accuracy: 1.0000 - val_loss: 1.7180 - val_accuracy: 0.5802\n",
            "Epoch 24/100\n",
            "23/23 [==============================] - 0s 6ms/step - loss: 8.1895e-05 - accuracy: 1.0000 - val_loss: 1.7317 - val_accuracy: 0.5802\n",
            "Epoch 25/100\n",
            "23/23 [==============================] - 0s 6ms/step - loss: 6.9791e-05 - accuracy: 1.0000 - val_loss: 1.7483 - val_accuracy: 0.5802\n",
            "Epoch 26/100\n",
            "23/23 [==============================] - 0s 7ms/step - loss: 7.6574e-05 - accuracy: 1.0000 - val_loss: 1.7619 - val_accuracy: 0.5802\n",
            "Epoch 27/100\n",
            "23/23 [==============================] - 0s 6ms/step - loss: 6.4670e-05 - accuracy: 1.0000 - val_loss: 1.7758 - val_accuracy: 0.5802\n",
            "Epoch 28/100\n",
            "23/23 [==============================] - 0s 7ms/step - loss: 5.9326e-05 - accuracy: 1.0000 - val_loss: 1.7887 - val_accuracy: 0.5802\n",
            "Epoch 29/100\n",
            "23/23 [==============================] - 0s 6ms/step - loss: 5.7553e-05 - accuracy: 1.0000 - val_loss: 1.7997 - val_accuracy: 0.5802\n",
            "Epoch 30/100\n",
            "23/23 [==============================] - 0s 6ms/step - loss: 5.1141e-05 - accuracy: 1.0000 - val_loss: 1.8102 - val_accuracy: 0.5802\n",
            "Epoch 31/100\n",
            "23/23 [==============================] - 0s 6ms/step - loss: 4.5251e-05 - accuracy: 1.0000 - val_loss: 1.8235 - val_accuracy: 0.5802\n",
            "Epoch 32/100\n",
            "23/23 [==============================] - 0s 6ms/step - loss: 4.5458e-05 - accuracy: 1.0000 - val_loss: 1.8353 - val_accuracy: 0.5802\n",
            "Epoch 33/100\n",
            "23/23 [==============================] - 0s 6ms/step - loss: 4.5476e-05 - accuracy: 1.0000 - val_loss: 1.8479 - val_accuracy: 0.5802\n",
            "Epoch 34/100\n",
            "23/23 [==============================] - 0s 6ms/step - loss: 4.1493e-05 - accuracy: 1.0000 - val_loss: 1.8592 - val_accuracy: 0.5802\n",
            "Epoch 35/100\n",
            "23/23 [==============================] - 0s 7ms/step - loss: 3.5586e-05 - accuracy: 1.0000 - val_loss: 1.8696 - val_accuracy: 0.5926\n",
            "Epoch 36/100\n",
            "23/23 [==============================] - 0s 6ms/step - loss: 3.6521e-05 - accuracy: 1.0000 - val_loss: 1.8818 - val_accuracy: 0.5802\n",
            "Epoch 37/100\n",
            "23/23 [==============================] - 0s 6ms/step - loss: 3.8390e-05 - accuracy: 1.0000 - val_loss: 1.8889 - val_accuracy: 0.5926\n",
            "Epoch 38/100\n",
            "23/23 [==============================] - 0s 6ms/step - loss: 3.3823e-05 - accuracy: 1.0000 - val_loss: 1.8962 - val_accuracy: 0.5926\n",
            "Epoch 39/100\n",
            "23/23 [==============================] - 0s 6ms/step - loss: 2.7582e-05 - accuracy: 1.0000 - val_loss: 1.9045 - val_accuracy: 0.5926\n",
            "Epoch 40/100\n",
            "23/23 [==============================] - 0s 6ms/step - loss: 2.8932e-05 - accuracy: 1.0000 - val_loss: 1.9157 - val_accuracy: 0.5926\n",
            "Epoch 41/100\n",
            "23/23 [==============================] - 0s 6ms/step - loss: 3.5161e-05 - accuracy: 1.0000 - val_loss: 1.9220 - val_accuracy: 0.5926\n",
            "Epoch 42/100\n",
            "23/23 [==============================] - 0s 7ms/step - loss: 2.5569e-05 - accuracy: 1.0000 - val_loss: 1.9304 - val_accuracy: 0.5926\n",
            "Epoch 43/100\n",
            "23/23 [==============================] - 0s 6ms/step - loss: 2.8413e-05 - accuracy: 1.0000 - val_loss: 1.9391 - val_accuracy: 0.5926\n",
            "Epoch 44/100\n",
            "23/23 [==============================] - 0s 6ms/step - loss: 3.6143e-05 - accuracy: 1.0000 - val_loss: 1.9476 - val_accuracy: 0.5926\n",
            "Epoch 45/100\n",
            "23/23 [==============================] - 0s 7ms/step - loss: 2.3832e-05 - accuracy: 1.0000 - val_loss: 1.9559 - val_accuracy: 0.5926\n",
            "Epoch 46/100\n",
            "23/23 [==============================] - 0s 6ms/step - loss: 2.7346e-05 - accuracy: 1.0000 - val_loss: 1.9657 - val_accuracy: 0.5926\n",
            "Epoch 47/100\n",
            "23/23 [==============================] - 0s 6ms/step - loss: 1.8642e-05 - accuracy: 1.0000 - val_loss: 1.9759 - val_accuracy: 0.5926\n",
            "Epoch 48/100\n",
            "23/23 [==============================] - 0s 7ms/step - loss: 1.6107e-05 - accuracy: 1.0000 - val_loss: 1.9858 - val_accuracy: 0.5926\n",
            "Epoch 49/100\n",
            "23/23 [==============================] - 0s 6ms/step - loss: 1.9053e-05 - accuracy: 1.0000 - val_loss: 1.9942 - val_accuracy: 0.5926\n",
            "Epoch 50/100\n",
            "23/23 [==============================] - 0s 7ms/step - loss: 2.0841e-05 - accuracy: 1.0000 - val_loss: 2.0008 - val_accuracy: 0.5926\n",
            "Epoch 51/100\n",
            "23/23 [==============================] - 0s 6ms/step - loss: 1.8828e-05 - accuracy: 1.0000 - val_loss: 2.0082 - val_accuracy: 0.5926\n",
            "Epoch 52/100\n",
            "23/23 [==============================] - 0s 6ms/step - loss: 1.7334e-05 - accuracy: 1.0000 - val_loss: 2.0132 - val_accuracy: 0.5802\n",
            "Epoch 53/100\n",
            "23/23 [==============================] - 0s 6ms/step - loss: 1.6322e-05 - accuracy: 1.0000 - val_loss: 2.0203 - val_accuracy: 0.5802\n",
            "Epoch 54/100\n",
            "23/23 [==============================] - 0s 6ms/step - loss: 1.5782e-05 - accuracy: 1.0000 - val_loss: 2.0281 - val_accuracy: 0.5926\n",
            "Epoch 55/100\n",
            "23/23 [==============================] - 0s 7ms/step - loss: 1.8307e-05 - accuracy: 1.0000 - val_loss: 2.0357 - val_accuracy: 0.5802\n",
            "Epoch 56/100\n",
            "23/23 [==============================] - 0s 7ms/step - loss: 1.3439e-05 - accuracy: 1.0000 - val_loss: 2.0437 - val_accuracy: 0.5802\n",
            "Epoch 57/100\n",
            "23/23 [==============================] - 0s 6ms/step - loss: 1.6211e-05 - accuracy: 1.0000 - val_loss: 2.0504 - val_accuracy: 0.5802\n",
            "Epoch 58/100\n",
            "23/23 [==============================] - 0s 6ms/step - loss: 1.5074e-05 - accuracy: 1.0000 - val_loss: 2.0578 - val_accuracy: 0.5802\n",
            "Epoch 59/100\n",
            "23/23 [==============================] - 0s 6ms/step - loss: 1.2438e-05 - accuracy: 1.0000 - val_loss: 2.0654 - val_accuracy: 0.5802\n",
            "Epoch 60/100\n",
            "23/23 [==============================] - 0s 6ms/step - loss: 1.2146e-05 - accuracy: 1.0000 - val_loss: 2.0735 - val_accuracy: 0.5802\n",
            "Epoch 61/100\n",
            "23/23 [==============================] - 0s 7ms/step - loss: 1.3988e-05 - accuracy: 1.0000 - val_loss: 2.0791 - val_accuracy: 0.5802\n",
            "Epoch 62/100\n",
            "23/23 [==============================] - 0s 6ms/step - loss: 1.2361e-05 - accuracy: 1.0000 - val_loss: 2.0870 - val_accuracy: 0.5802\n",
            "Epoch 63/100\n",
            "23/23 [==============================] - 0s 6ms/step - loss: 1.1501e-05 - accuracy: 1.0000 - val_loss: 2.0943 - val_accuracy: 0.5802\n",
            "Epoch 64/100\n",
            "23/23 [==============================] - 0s 6ms/step - loss: 1.2529e-05 - accuracy: 1.0000 - val_loss: 2.0992 - val_accuracy: 0.5802\n",
            "Epoch 65/100\n",
            "23/23 [==============================] - 0s 6ms/step - loss: 1.0044e-05 - accuracy: 1.0000 - val_loss: 2.1059 - val_accuracy: 0.5802\n",
            "Epoch 66/100\n",
            "23/23 [==============================] - 0s 6ms/step - loss: 1.0069e-05 - accuracy: 1.0000 - val_loss: 2.1134 - val_accuracy: 0.5802\n",
            "Epoch 67/100\n",
            "23/23 [==============================] - 0s 6ms/step - loss: 1.2241e-05 - accuracy: 1.0000 - val_loss: 2.1190 - val_accuracy: 0.5802\n",
            "Epoch 68/100\n",
            "23/23 [==============================] - 0s 7ms/step - loss: 1.0461e-05 - accuracy: 1.0000 - val_loss: 2.1235 - val_accuracy: 0.5802\n",
            "Epoch 69/100\n",
            "23/23 [==============================] - 0s 7ms/step - loss: 9.5977e-06 - accuracy: 1.0000 - val_loss: 2.1287 - val_accuracy: 0.5802\n",
            "Epoch 70/100\n",
            "23/23 [==============================] - 0s 6ms/step - loss: 9.9282e-06 - accuracy: 1.0000 - val_loss: 2.1370 - val_accuracy: 0.5802\n",
            "Epoch 71/100\n",
            "23/23 [==============================] - 0s 6ms/step - loss: 9.9665e-06 - accuracy: 1.0000 - val_loss: 2.1434 - val_accuracy: 0.5802\n",
            "Epoch 72/100\n",
            "23/23 [==============================] - 0s 6ms/step - loss: 1.0595e-05 - accuracy: 1.0000 - val_loss: 2.1517 - val_accuracy: 0.5802\n",
            "Epoch 73/100\n",
            "23/23 [==============================] - 0s 6ms/step - loss: 7.8762e-06 - accuracy: 1.0000 - val_loss: 2.1579 - val_accuracy: 0.5802\n",
            "Epoch 74/100\n",
            "23/23 [==============================] - 0s 7ms/step - loss: 8.1615e-06 - accuracy: 1.0000 - val_loss: 2.1639 - val_accuracy: 0.5802\n",
            "Epoch 75/100\n",
            "23/23 [==============================] - 0s 7ms/step - loss: 6.8880e-06 - accuracy: 1.0000 - val_loss: 2.1693 - val_accuracy: 0.5802\n",
            "Epoch 76/100\n",
            "23/23 [==============================] - 0s 6ms/step - loss: 7.9551e-06 - accuracy: 1.0000 - val_loss: 2.1750 - val_accuracy: 0.5802\n",
            "Epoch 77/100\n",
            "23/23 [==============================] - 0s 6ms/step - loss: 7.5948e-06 - accuracy: 1.0000 - val_loss: 2.1811 - val_accuracy: 0.5802\n",
            "Epoch 78/100\n",
            "23/23 [==============================] - 0s 6ms/step - loss: 9.0106e-06 - accuracy: 1.0000 - val_loss: 2.1870 - val_accuracy: 0.5802\n",
            "Epoch 79/100\n",
            "23/23 [==============================] - 0s 6ms/step - loss: 6.9313e-06 - accuracy: 1.0000 - val_loss: 2.1908 - val_accuracy: 0.5802\n",
            "Epoch 80/100\n",
            "23/23 [==============================] - 0s 6ms/step - loss: 7.8951e-06 - accuracy: 1.0000 - val_loss: 2.1956 - val_accuracy: 0.5802\n",
            "Epoch 81/100\n",
            "23/23 [==============================] - 0s 7ms/step - loss: 7.0255e-06 - accuracy: 1.0000 - val_loss: 2.1998 - val_accuracy: 0.5802\n",
            "Epoch 82/100\n",
            "23/23 [==============================] - 0s 6ms/step - loss: 6.6125e-06 - accuracy: 1.0000 - val_loss: 2.2040 - val_accuracy: 0.5802\n",
            "Epoch 83/100\n",
            "23/23 [==============================] - 0s 6ms/step - loss: 6.9491e-06 - accuracy: 1.0000 - val_loss: 2.2106 - val_accuracy: 0.5802\n",
            "Epoch 84/100\n",
            "23/23 [==============================] - 0s 7ms/step - loss: 6.2668e-06 - accuracy: 1.0000 - val_loss: 2.2181 - val_accuracy: 0.5802\n",
            "Epoch 85/100\n",
            "23/23 [==============================] - 0s 6ms/step - loss: 6.5816e-06 - accuracy: 1.0000 - val_loss: 2.2236 - val_accuracy: 0.5802\n",
            "Epoch 86/100\n",
            "23/23 [==============================] - 0s 6ms/step - loss: 6.1296e-06 - accuracy: 1.0000 - val_loss: 2.2273 - val_accuracy: 0.5802\n",
            "Epoch 87/100\n",
            "23/23 [==============================] - 0s 6ms/step - loss: 5.4006e-06 - accuracy: 1.0000 - val_loss: 2.2342 - val_accuracy: 0.5802\n",
            "Epoch 88/100\n",
            "23/23 [==============================] - 0s 7ms/step - loss: 5.9968e-06 - accuracy: 1.0000 - val_loss: 2.2432 - val_accuracy: 0.5802\n",
            "Epoch 89/100\n",
            "23/23 [==============================] - 0s 7ms/step - loss: 4.6398e-06 - accuracy: 1.0000 - val_loss: 2.2526 - val_accuracy: 0.5802\n",
            "Epoch 90/100\n",
            "23/23 [==============================] - 0s 6ms/step - loss: 4.9094e-06 - accuracy: 1.0000 - val_loss: 2.2584 - val_accuracy: 0.5802\n",
            "Epoch 91/100\n",
            "23/23 [==============================] - 0s 6ms/step - loss: 5.3458e-06 - accuracy: 1.0000 - val_loss: 2.2621 - val_accuracy: 0.5802\n",
            "Epoch 92/100\n",
            "23/23 [==============================] - 0s 6ms/step - loss: 5.9289e-06 - accuracy: 1.0000 - val_loss: 2.2636 - val_accuracy: 0.5802\n",
            "Epoch 93/100\n",
            "23/23 [==============================] - 0s 6ms/step - loss: 5.0901e-06 - accuracy: 1.0000 - val_loss: 2.2672 - val_accuracy: 0.5802\n",
            "Epoch 94/100\n",
            "23/23 [==============================] - 0s 7ms/step - loss: 4.3625e-06 - accuracy: 1.0000 - val_loss: 2.2732 - val_accuracy: 0.5802\n",
            "Epoch 95/100\n",
            "23/23 [==============================] - 0s 6ms/step - loss: 5.5677e-06 - accuracy: 1.0000 - val_loss: 2.2773 - val_accuracy: 0.5802\n",
            "Epoch 96/100\n",
            "23/23 [==============================] - 0s 6ms/step - loss: 4.7417e-06 - accuracy: 1.0000 - val_loss: 2.2831 - val_accuracy: 0.5802\n",
            "Epoch 97/100\n",
            "23/23 [==============================] - 0s 6ms/step - loss: 4.5775e-06 - accuracy: 1.0000 - val_loss: 2.2889 - val_accuracy: 0.5802\n",
            "Epoch 98/100\n",
            "23/23 [==============================] - 0s 6ms/step - loss: 4.1449e-06 - accuracy: 1.0000 - val_loss: 2.2933 - val_accuracy: 0.5802\n",
            "Epoch 99/100\n",
            "23/23 [==============================] - 0s 6ms/step - loss: 5.1588e-06 - accuracy: 1.0000 - val_loss: 2.2979 - val_accuracy: 0.5802\n",
            "Epoch 100/100\n",
            "23/23 [==============================] - 0s 6ms/step - loss: 4.2733e-06 - accuracy: 1.0000 - val_loss: 2.3047 - val_accuracy: 0.5802\n"
          ]
        },
        {
          "output_type": "execute_result",
          "data": {
            "text/plain": [
              "'ckpt/ckpt-1'"
            ],
            "application/vnd.google.colaboratory.intrinsic+json": {
              "type": "string"
            }
          },
          "metadata": {},
          "execution_count": 36
        }
      ]
    },
    {
      "cell_type": "code",
      "source": [
        "loss, acc = model.evaluate(X_test, y_test)\n"
      ],
      "metadata": {
        "colab": {
          "base_uri": "https://localhost:8080/"
        },
        "id": "RWgURSCxtnwj",
        "outputId": "72a25f65-f02d-4e73-d196-0a8f8a6584a2"
      },
      "execution_count": 37,
      "outputs": [
        {
          "output_type": "stream",
          "name": "stdout",
          "text": [
            "7/7 [==============================] - 0s 10ms/step - loss: 1.6889 - accuracy: 0.6119\n"
          ]
        }
      ]
    },
    {
      "cell_type": "code",
      "source": [
        "acc * 100"
      ],
      "metadata": {
        "colab": {
          "base_uri": "https://localhost:8080/"
        },
        "id": "mq8Em04RtsCQ",
        "outputId": "5f9b5d36-b94b-4d05-b287-67cd135e5086"
      },
      "execution_count": 38,
      "outputs": [
        {
          "output_type": "execute_result",
          "data": {
            "text/plain": [
              "61.194032430648804"
            ]
          },
          "metadata": {},
          "execution_count": 38
        }
      ]
    },
    {
      "cell_type": "code",
      "source": [
        "history_dict = history1.history\n",
        "print(history_dict.keys())\n",
        "\n",
        "acc = history_dict['accuracy']\n",
        "val_acc = history_dict['val_accuracy']\n",
        "loss = history_dict['loss']\n",
        "val_loss = history_dict['val_loss']\n",
        "\n",
        "epochs = range(1, len(acc) + 1)\n",
        "fig = plt.figure(figsize=(10, 6))\n",
        "fig.tight_layout()\n",
        "\n",
        "plt.subplot(2, 1, 1)\n",
        "# r is for \"solid red line\"\n",
        "plt.plot(epochs, loss, 'r', label='Training loss')\n",
        "# b is for \"solid blue line\"\n",
        "plt.plot(epochs, val_loss, 'b', label='Validation loss')\n",
        "plt.title('Training and validation loss')\n",
        "# plt.xlabel('Epochs')\n",
        "plt.ylabel('Loss')\n",
        "plt.legend()\n",
        "\n",
        "plt.subplot(2, 1, 2)\n",
        "plt.plot(epochs, acc, 'r', label='Training acc')\n",
        "plt.plot(epochs, val_acc, 'b', label='Validation acc')\n",
        "plt.title('Training and validation accuracy')\n",
        "plt.xlabel('Epochs')\n",
        "plt.ylabel('Accuracy')\n",
        "plt.legend(loc='lower right')"
      ],
      "metadata": {
        "colab": {
          "base_uri": "https://localhost:8080/",
          "height": 439
        },
        "id": "Gam6l36dQmH6",
        "outputId": "cf5cde0d-6013-4795-c0a8-07d6e8d72e2f"
      },
      "execution_count": 39,
      "outputs": [
        {
          "output_type": "stream",
          "name": "stdout",
          "text": [
            "dict_keys(['loss', 'accuracy', 'val_loss', 'val_accuracy'])\n"
          ]
        },
        {
          "output_type": "execute_result",
          "data": {
            "text/plain": [
              "<matplotlib.legend.Legend at 0x7fa236c05a90>"
            ]
          },
          "metadata": {},
          "execution_count": 39
        },
        {
          "output_type": "display_data",
          "data": {
            "text/plain": [
              "<Figure size 720x432 with 2 Axes>"
            ],
            "image/png": "[encoded data removed]"
          },
          "metadata": {
            "needs_background": "light"
          }
        }
      ]
    },
    {
      "cell_type": "code",
      "source": [
        "sentence = \"Elon Musk briefly loses world's richest person title to Louis Vuitton CEO\""
      ],
      "metadata": {
        "id": "TG4b0k8Dttxw"
      },
      "execution_count": 40,
      "outputs": []
    },
    {
      "cell_type": "code",
      "source": [
        "sentence = np.array([sentence])"
      ],
      "metadata": {
        "id": "Iq8HI28b-eGL"
      },
      "execution_count": 41,
      "outputs": []
    },
    {
      "cell_type": "code",
      "source": [
        "sentence[0]"
      ],
      "metadata": {
        "colab": {
          "base_uri": "https://localhost:8080/",
          "height": 36
        },
        "id": "uDWrLvq6-fqo",
        "outputId": "4e9cb189-28bb-4b5e-ad56-23655abba9cf"
      },
      "execution_count": 42,
      "outputs": [
        {
          "output_type": "execute_result",
          "data": {
            "text/plain": [
              "\"Elon Musk briefly loses world's richest person title to Louis Vuitton CEO\""
            ],
            "application/vnd.google.colaboratory.intrinsic+json": {
              "type": "string"
            }
          },
          "metadata": {},
          "execution_count": 42
        }
      ]
    },
    {
      "cell_type": "code",
      "source": [
        "sentence = encoder.encode(sentence[0])"
      ],
      "metadata": {
        "id": "0lTzpWKt-jzY"
      },
      "execution_count": 43,
      "outputs": []
    },
    {
      "cell_type": "code",
      "source": [
        "prediction = dict ()\n",
        "prediction [ 'deeplearning_model1' ] = model.predict ( X_test )"
      ],
      "metadata": {
        "colab": {
          "base_uri": "https://localhost:8080/"
        },
        "id": "RRu4xvjruhyd",
        "outputId": "b15c8556-0005-427c-a2ba-e64011629277"
      },
      "execution_count": 44,
      "outputs": [
        {
          "output_type": "stream",
          "name": "stdout",
          "text": [
            "7/7 [==============================] - 0s 2ms/step\n"
          ]
        }
      ]
    },
    {
      "cell_type": "code",
      "source": [
        "pred = model.predict([sentence])"
      ],
      "metadata": {
        "id": "xmYzihIk-ko0",
        "colab": {
          "base_uri": "https://localhost:8080/"
        },
        "outputId": "f2b780c0-387d-423f-bc19-a621469319ca"
      },
      "execution_count": 45,
      "outputs": [
        {
          "output_type": "stream",
          "name": "stdout",
          "text": [
            "1/1 [==============================] - 0s 112ms/step\n"
          ]
        }
      ]
    },
    {
      "cell_type": "code",
      "source": [
        "pred = pred >= 0.5"
      ],
      "metadata": {
        "id": "sQ4GrDp_-nXz"
      },
      "execution_count": 46,
      "outputs": []
    },
    {
      "cell_type": "code",
      "source": [
        "\n",
        "if pred:\n",
        "  print(\"It has missing information\")\n",
        "\n",
        "else:\n",
        "  print(\"It news is alright!\")"
      ],
      "metadata": {
        "colab": {
          "base_uri": "https://localhost:8080/"
        },
        "id": "Kal1Fqov-o1t",
        "outputId": "cca5b4dd-ff0c-4ce6-f93c-9c88f2e57cc1"
      },
      "execution_count": 47,
      "outputs": [
        {
          "output_type": "stream",
          "name": "stdout",
          "text": [
            "It news is alright!\n"
          ]
        }
      ]
    },
    {
      "cell_type": "code",
      "source": [
        "model.save('news_classify')"
      ],
      "metadata": {
        "id": "duDRYAHI_VtG",
        "colab": {
          "base_uri": "https://localhost:8080/"
        },
        "outputId": "2f1b5bf1-50df-4e87-ee91-9c0ca0fe1d56"
      },
      "execution_count": 48,
      "outputs": [
        {
          "output_type": "stream",
          "name": "stderr",
          "text": [
            "WARNING:absl:Found untraced functions such as _jit_compiled_convolution_op, _jit_compiled_convolution_op, _jit_compiled_convolution_op while saving (showing 3 of 3). These functions will not be directly callable after loading.\n"
          ]
        }
      ]
    },
    {
      "cell_type": "markdown",
      "source": [
        "##Second model"
      ],
      "metadata": {
        "id": "L2euJ_Pcvkxr"
      }
    },
    {
      "cell_type": "code",
      "source": [
        "def create_model():\n",
        "    \n",
        "    model = tf.keras.Sequential([\n",
        "        tf.keras.layers.Embedding(88587, 64),\n",
        "        tf.keras.layers.Bidirectional(tf.keras.layers.LSTM(128)),\n",
        "        tf.keras.layers.Dropout(0.2),\n",
        "        tf.keras.layers.Dense(64,activation=\"relu\"),\n",
        "        tf.keras.layers.Dense(1,activation=\"sigmoid\")])\n",
        "    return model\n"
      ],
      "metadata": {
        "id": "bgMrBFicAYSq"
      },
      "execution_count": 49,
      "outputs": []
    },
    {
      "cell_type": "code",
      "source": [
        "model2 = create_model()\n",
        "model2.summary()"
      ],
      "metadata": {
        "colab": {
          "base_uri": "https://localhost:8080/"
        },
        "id": "Jyp9pnN6DH7Z",
        "outputId": "dc3f72bd-e224-40d5-c7a7-666cfd861849"
      },
      "execution_count": 50,
      "outputs": [
        {
          "output_type": "stream",
          "name": "stdout",
          "text": [
            "Model: \"sequential\"\n",
            "_________________________________________________________________\n",
            " Layer (type)                Output Shape              Param #   \n",
            "=================================================================\n",
            " embedding_1 (Embedding)     (None, None, 64)          5669568   \n",
            "                                                                 \n",
            " bidirectional (Bidirectiona  (None, 256)              197632    \n",
            " l)                                                              \n",
            "                                                                 \n",
            " dropout_1 (Dropout)         (None, 256)               0         \n",
            "                                                                 \n",
            " dense_2 (Dense)             (None, 64)                16448     \n",
            "                                                                 \n",
            " dense_3 (Dense)             (None, 1)                 65        \n",
            "                                                                 \n",
            "=================================================================\n",
            "Total params: 5,883,713\n",
            "Trainable params: 5,883,713\n",
            "Non-trainable params: 0\n",
            "_________________________________________________________________\n"
          ]
        }
      ]
    },
    {
      "cell_type": "code",
      "source": [
        "\n",
        "\n",
        "tf.keras.utils.plot_model(model2, to_file = 'plant.png',  show_shapes = True, show_dtype = True, \n",
        "                          show_layer_names = True, rankdir='TB', expand_nested = True)"
      ],
      "metadata": {
        "colab": {
          "base_uri": "https://localhost:8080/",
          "height": 828
        },
        "id": "BXTevdPICI6i",
        "outputId": "75a21b59-47cf-40b4-958d-810e604b193a"
      },
      "execution_count": 51,
      "outputs": [
        {
          "output_type": "execute_result",
          "data": {
            "image/png": "[encoded data removed]",
            "text/plain": [
              "<IPython.core.display.Image object>"
            ]
          },
          "metadata": {},
          "execution_count": 51
        }
      ]
    },
    {
      "cell_type": "code",
      "source": [
        "model2.compile(loss='binary_crossentropy', optimizer='adam',metrics=['acc'])"
      ],
      "metadata": {
        "id": "fLu6xqp_DS7L"
      },
      "execution_count": 52,
      "outputs": []
    },
    {
      "cell_type": "code",
      "source": [
        "H = model2.fit(X_train,\n",
        "             y_train,\n",
        "             epochs=100,\n",
        "             batch_size=512,\n",
        "             validation_data=(X_test, y_test),\n",
        "             verbose=1\n",
        "             )"
      ],
      "metadata": {
        "colab": {
          "base_uri": "https://localhost:8080/"
        },
        "id": "bLCtYtraDmzG",
        "outputId": "22c7976b-eb54-41f0-c93a-02a5eb444d8c"
      },
      "execution_count": 53,
      "outputs": [
        {
          "output_type": "stream",
          "name": "stdout",
          "text": [
            "Epoch 1/100\n",
            "2/2 [==============================] - 4s 740ms/step - loss: 0.6916 - acc: 0.5281 - val_loss: 0.6843 - val_acc: 0.6020\n",
            "Epoch 2/100\n",
            "2/2 [==============================] - 0s 46ms/step - loss: 0.6824 - acc: 0.5993 - val_loss: 0.6755 - val_acc: 0.6020\n",
            "Epoch 3/100\n",
            "2/2 [==============================] - 0s 46ms/step - loss: 0.6741 - acc: 0.5993 - val_loss: 0.6729 - val_acc: 0.6020\n",
            "Epoch 4/100\n",
            "2/2 [==============================] - 0s 60ms/step - loss: 0.6691 - acc: 0.5993 - val_loss: 0.6736 - val_acc: 0.6020\n",
            "Epoch 5/100\n",
            "2/2 [==============================] - 0s 43ms/step - loss: 0.6649 - acc: 0.5993 - val_loss: 0.6703 - val_acc: 0.6020\n",
            "Epoch 6/100\n",
            "2/2 [==============================] - 0s 41ms/step - loss: 0.6536 - acc: 0.5993 - val_loss: 0.6676 - val_acc: 0.6020\n",
            "Epoch 7/100\n",
            "2/2 [==============================] - 0s 41ms/step - loss: 0.6394 - acc: 0.6005 - val_loss: 0.6679 - val_acc: 0.6169\n",
            "Epoch 8/100\n",
            "2/2 [==============================] - 0s 37ms/step - loss: 0.6176 - acc: 0.7191 - val_loss: 0.6604 - val_acc: 0.6269\n",
            "Epoch 9/100\n",
            "2/2 [==============================] - 0s 37ms/step - loss: 0.5752 - acc: 0.7228 - val_loss: 0.6592 - val_acc: 0.6219\n",
            "Epoch 10/100\n",
            "2/2 [==============================] - 0s 55ms/step - loss: 0.5179 - acc: 0.7553 - val_loss: 0.6784 - val_acc: 0.6318\n",
            "Epoch 11/100\n",
            "2/2 [==============================] - 0s 36ms/step - loss: 0.4548 - acc: 0.8477 - val_loss: 0.7929 - val_acc: 0.6219\n",
            "Epoch 12/100\n",
            "2/2 [==============================] - 0s 38ms/step - loss: 0.4174 - acc: 0.7653 - val_loss: 0.6848 - val_acc: 0.6219\n",
            "Epoch 13/100\n",
            "2/2 [==============================] - 0s 39ms/step - loss: 0.3095 - acc: 0.9451 - val_loss: 0.6937 - val_acc: 0.5920\n",
            "Epoch 14/100\n",
            "2/2 [==============================] - 0s 41ms/step - loss: 0.2476 - acc: 0.9700 - val_loss: 0.7632 - val_acc: 0.6269\n",
            "Epoch 15/100\n",
            "2/2 [==============================] - 0s 38ms/step - loss: 0.1925 - acc: 0.9625 - val_loss: 0.8246 - val_acc: 0.6169\n",
            "Epoch 16/100\n",
            "2/2 [==============================] - 0s 39ms/step - loss: 0.1266 - acc: 0.9725 - val_loss: 1.0537 - val_acc: 0.6020\n",
            "Epoch 17/100\n",
            "2/2 [==============================] - 0s 39ms/step - loss: 0.0792 - acc: 0.9800 - val_loss: 1.4587 - val_acc: 0.6119\n",
            "Epoch 18/100\n",
            "2/2 [==============================] - 0s 38ms/step - loss: 0.0517 - acc: 0.9800 - val_loss: 2.5009 - val_acc: 0.6219\n",
            "Epoch 19/100\n",
            "2/2 [==============================] - 0s 37ms/step - loss: 0.2072 - acc: 0.9014 - val_loss: 1.3877 - val_acc: 0.5622\n",
            "Epoch 20/100\n",
            "2/2 [==============================] - 0s 37ms/step - loss: 0.0296 - acc: 0.9913 - val_loss: 1.1127 - val_acc: 0.5672\n",
            "Epoch 21/100\n",
            "2/2 [==============================] - 0s 44ms/step - loss: 0.0315 - acc: 0.9963 - val_loss: 1.0347 - val_acc: 0.5572\n",
            "Epoch 22/100\n",
            "2/2 [==============================] - 0s 39ms/step - loss: 0.0384 - acc: 0.9938 - val_loss: 1.0198 - val_acc: 0.5871\n",
            "Epoch 23/100\n",
            "2/2 [==============================] - 0s 37ms/step - loss: 0.0401 - acc: 0.9938 - val_loss: 1.0463 - val_acc: 0.6070\n",
            "Epoch 24/100\n",
            "2/2 [==============================] - 0s 37ms/step - loss: 0.0422 - acc: 0.9925 - val_loss: 1.0903 - val_acc: 0.5970\n",
            "Epoch 25/100\n",
            "2/2 [==============================] - 0s 35ms/step - loss: 0.0412 - acc: 0.9913 - val_loss: 1.1267 - val_acc: 0.5970\n",
            "Epoch 26/100\n",
            "2/2 [==============================] - 0s 35ms/step - loss: 0.0327 - acc: 0.9950 - val_loss: 1.1600 - val_acc: 0.5871\n",
            "Epoch 27/100\n",
            "2/2 [==============================] - 0s 34ms/step - loss: 0.0232 - acc: 0.9963 - val_loss: 1.2034 - val_acc: 0.6020\n",
            "Epoch 28/100\n",
            "2/2 [==============================] - 0s 36ms/step - loss: 0.0168 - acc: 0.9963 - val_loss: 1.2576 - val_acc: 0.5871\n",
            "Epoch 29/100\n",
            "2/2 [==============================] - 0s 35ms/step - loss: 0.0113 - acc: 0.9988 - val_loss: 1.3154 - val_acc: 0.5721\n",
            "Epoch 30/100\n",
            "2/2 [==============================] - 0s 40ms/step - loss: 0.0096 - acc: 0.9975 - val_loss: 1.3749 - val_acc: 0.5522\n",
            "Epoch 31/100\n",
            "2/2 [==============================] - 0s 34ms/step - loss: 0.0080 - acc: 0.9988 - val_loss: 1.4400 - val_acc: 0.5572\n",
            "Epoch 32/100\n",
            "2/2 [==============================] - 0s 35ms/step - loss: 0.0069 - acc: 0.9988 - val_loss: 1.5101 - val_acc: 0.5373\n",
            "Epoch 33/100\n",
            "2/2 [==============================] - 0s 36ms/step - loss: 0.0050 - acc: 1.0000 - val_loss: 1.5723 - val_acc: 0.5373\n",
            "Epoch 34/100\n",
            "2/2 [==============================] - 0s 41ms/step - loss: 0.0046 - acc: 1.0000 - val_loss: 1.6267 - val_acc: 0.5373\n",
            "Epoch 35/100\n",
            "2/2 [==============================] - 0s 36ms/step - loss: 0.0040 - acc: 1.0000 - val_loss: 1.6897 - val_acc: 0.5373\n",
            "Epoch 36/100\n",
            "2/2 [==============================] - 0s 35ms/step - loss: 0.0034 - acc: 1.0000 - val_loss: 1.7470 - val_acc: 0.5522\n",
            "Epoch 37/100\n",
            "2/2 [==============================] - 0s 35ms/step - loss: 0.0030 - acc: 1.0000 - val_loss: 1.7977 - val_acc: 0.5572\n",
            "Epoch 38/100\n",
            "2/2 [==============================] - 0s 35ms/step - loss: 0.0028 - acc: 1.0000 - val_loss: 1.8427 - val_acc: 0.5572\n",
            "Epoch 39/100\n",
            "2/2 [==============================] - 0s 35ms/step - loss: 0.0025 - acc: 1.0000 - val_loss: 1.8826 - val_acc: 0.5672\n",
            "Epoch 40/100\n",
            "2/2 [==============================] - 0s 34ms/step - loss: 0.0027 - acc: 1.0000 - val_loss: 1.9176 - val_acc: 0.5672\n",
            "Epoch 41/100\n",
            "2/2 [==============================] - 0s 50ms/step - loss: 0.0029 - acc: 1.0000 - val_loss: 1.9483 - val_acc: 0.5672\n",
            "Epoch 42/100\n",
            "2/2 [==============================] - 0s 37ms/step - loss: 0.0023 - acc: 1.0000 - val_loss: 1.9745 - val_acc: 0.5672\n",
            "Epoch 43/100\n",
            "2/2 [==============================] - 0s 35ms/step - loss: 0.0020 - acc: 1.0000 - val_loss: 1.9977 - val_acc: 0.5672\n",
            "Epoch 44/100\n",
            "2/2 [==============================] - 0s 35ms/step - loss: 0.0018 - acc: 1.0000 - val_loss: 2.0183 - val_acc: 0.5672\n",
            "Epoch 45/100\n",
            "2/2 [==============================] - 0s 35ms/step - loss: 0.0019 - acc: 1.0000 - val_loss: 2.0371 - val_acc: 0.5721\n",
            "Epoch 46/100\n",
            "2/2 [==============================] - 0s 42ms/step - loss: 0.0017 - acc: 1.0000 - val_loss: 2.0541 - val_acc: 0.5721\n",
            "Epoch 47/100\n",
            "2/2 [==============================] - 0s 35ms/step - loss: 0.0017 - acc: 1.0000 - val_loss: 2.0697 - val_acc: 0.5721\n",
            "Epoch 48/100\n",
            "2/2 [==============================] - 0s 34ms/step - loss: 0.0016 - acc: 1.0000 - val_loss: 2.0843 - val_acc: 0.5721\n",
            "Epoch 49/100\n",
            "2/2 [==============================] - 0s 34ms/step - loss: 0.0015 - acc: 1.0000 - val_loss: 2.0979 - val_acc: 0.5721\n",
            "Epoch 50/100\n",
            "2/2 [==============================] - 0s 35ms/step - loss: 0.0014 - acc: 1.0000 - val_loss: 2.1109 - val_acc: 0.5721\n",
            "Epoch 51/100\n",
            "2/2 [==============================] - 0s 51ms/step - loss: 0.0013 - acc: 1.0000 - val_loss: 2.1238 - val_acc: 0.5721\n",
            "Epoch 52/100\n",
            "2/2 [==============================] - 0s 35ms/step - loss: 0.0015 - acc: 1.0000 - val_loss: 2.1365 - val_acc: 0.5721\n",
            "Epoch 53/100\n",
            "2/2 [==============================] - 0s 35ms/step - loss: 0.0013 - acc: 1.0000 - val_loss: 2.1494 - val_acc: 0.5721\n",
            "Epoch 54/100\n",
            "2/2 [==============================] - 0s 36ms/step - loss: 0.0013 - acc: 1.0000 - val_loss: 2.1620 - val_acc: 0.5721\n",
            "Epoch 55/100\n",
            "2/2 [==============================] - 0s 34ms/step - loss: 0.0014 - acc: 1.0000 - val_loss: 2.1743 - val_acc: 0.5721\n",
            "Epoch 56/100\n",
            "2/2 [==============================] - 0s 43ms/step - loss: 0.0012 - acc: 1.0000 - val_loss: 2.1866 - val_acc: 0.5721\n",
            "Epoch 57/100\n",
            "2/2 [==============================] - 0s 36ms/step - loss: 0.0011 - acc: 1.0000 - val_loss: 2.1984 - val_acc: 0.5721\n",
            "Epoch 58/100\n",
            "2/2 [==============================] - 0s 35ms/step - loss: 9.8927e-04 - acc: 1.0000 - val_loss: 2.2103 - val_acc: 0.5721\n",
            "Epoch 59/100\n",
            "2/2 [==============================] - 0s 36ms/step - loss: 0.0010 - acc: 1.0000 - val_loss: 2.2218 - val_acc: 0.5721\n",
            "Epoch 60/100\n",
            "2/2 [==============================] - 0s 40ms/step - loss: 8.1744e-04 - acc: 1.0000 - val_loss: 2.2335 - val_acc: 0.5721\n",
            "Epoch 61/100\n",
            "2/2 [==============================] - 0s 35ms/step - loss: 9.9352e-04 - acc: 1.0000 - val_loss: 2.2445 - val_acc: 0.5672\n",
            "Epoch 62/100\n",
            "2/2 [==============================] - 0s 38ms/step - loss: 0.0010 - acc: 1.0000 - val_loss: 2.2548 - val_acc: 0.5672\n",
            "Epoch 63/100\n",
            "2/2 [==============================] - 0s 35ms/step - loss: 7.6179e-04 - acc: 1.0000 - val_loss: 2.2648 - val_acc: 0.5721\n",
            "Epoch 64/100\n",
            "2/2 [==============================] - 0s 35ms/step - loss: 7.7314e-04 - acc: 1.0000 - val_loss: 2.2748 - val_acc: 0.5721\n",
            "Epoch 65/100\n",
            "2/2 [==============================] - 0s 35ms/step - loss: 9.4371e-04 - acc: 1.0000 - val_loss: 2.2847 - val_acc: 0.5721\n",
            "Epoch 66/100\n",
            "2/2 [==============================] - 0s 36ms/step - loss: 8.0336e-04 - acc: 1.0000 - val_loss: 2.2940 - val_acc: 0.5672\n",
            "Epoch 67/100\n",
            "2/2 [==============================] - 0s 35ms/step - loss: 7.5700e-04 - acc: 1.0000 - val_loss: 2.3026 - val_acc: 0.5672\n",
            "Epoch 68/100\n",
            "2/2 [==============================] - 0s 36ms/step - loss: 7.4297e-04 - acc: 1.0000 - val_loss: 2.3112 - val_acc: 0.5672\n",
            "Epoch 69/100\n",
            "2/2 [==============================] - 0s 53ms/step - loss: 7.4493e-04 - acc: 1.0000 - val_loss: 2.3194 - val_acc: 0.5721\n",
            "Epoch 70/100\n",
            "2/2 [==============================] - 0s 35ms/step - loss: 6.9521e-04 - acc: 1.0000 - val_loss: 2.3273 - val_acc: 0.5721\n",
            "Epoch 71/100\n",
            "2/2 [==============================] - 0s 38ms/step - loss: 7.3627e-04 - acc: 1.0000 - val_loss: 2.3351 - val_acc: 0.5721\n",
            "Epoch 72/100\n",
            "2/2 [==============================] - 0s 35ms/step - loss: 7.5324e-04 - acc: 1.0000 - val_loss: 2.3429 - val_acc: 0.5721\n",
            "Epoch 73/100\n",
            "2/2 [==============================] - 0s 35ms/step - loss: 6.6302e-04 - acc: 1.0000 - val_loss: 2.3511 - val_acc: 0.5721\n",
            "Epoch 74/100\n",
            "2/2 [==============================] - 0s 36ms/step - loss: 6.3811e-04 - acc: 1.0000 - val_loss: 2.3592 - val_acc: 0.5721\n",
            "Epoch 75/100\n",
            "2/2 [==============================] - 0s 35ms/step - loss: 7.1627e-04 - acc: 1.0000 - val_loss: 2.3672 - val_acc: 0.5721\n",
            "Epoch 76/100\n",
            "2/2 [==============================] - 0s 37ms/step - loss: 5.8637e-04 - acc: 1.0000 - val_loss: 2.3756 - val_acc: 0.5721\n",
            "Epoch 77/100\n",
            "2/2 [==============================] - 0s 35ms/step - loss: 6.2940e-04 - acc: 1.0000 - val_loss: 2.3835 - val_acc: 0.5721\n",
            "Epoch 78/100\n",
            "2/2 [==============================] - 0s 36ms/step - loss: 6.5565e-04 - acc: 1.0000 - val_loss: 2.3916 - val_acc: 0.5721\n",
            "Epoch 79/100\n",
            "2/2 [==============================] - 0s 36ms/step - loss: 6.1880e-04 - acc: 1.0000 - val_loss: 2.3994 - val_acc: 0.5721\n",
            "Epoch 80/100\n",
            "2/2 [==============================] - 0s 40ms/step - loss: 5.3482e-04 - acc: 1.0000 - val_loss: 2.4068 - val_acc: 0.5721\n",
            "Epoch 81/100\n",
            "2/2 [==============================] - 0s 38ms/step - loss: 5.3444e-04 - acc: 1.0000 - val_loss: 2.4137 - val_acc: 0.5721\n",
            "Epoch 82/100\n",
            "2/2 [==============================] - 0s 35ms/step - loss: 5.0435e-04 - acc: 1.0000 - val_loss: 2.4207 - val_acc: 0.5771\n",
            "Epoch 83/100\n",
            "2/2 [==============================] - 0s 35ms/step - loss: 4.4963e-04 - acc: 1.0000 - val_loss: 2.4278 - val_acc: 0.5771\n",
            "Epoch 84/100\n",
            "2/2 [==============================] - 0s 39ms/step - loss: 4.6005e-04 - acc: 1.0000 - val_loss: 2.4351 - val_acc: 0.5771\n",
            "Epoch 85/100\n",
            "2/2 [==============================] - 0s 36ms/step - loss: 4.9770e-04 - acc: 1.0000 - val_loss: 2.4420 - val_acc: 0.5771\n",
            "Epoch 86/100\n",
            "2/2 [==============================] - 0s 36ms/step - loss: 4.8975e-04 - acc: 1.0000 - val_loss: 2.4488 - val_acc: 0.5771\n",
            "Epoch 87/100\n",
            "2/2 [==============================] - 0s 36ms/step - loss: 4.2977e-04 - acc: 1.0000 - val_loss: 2.4563 - val_acc: 0.5771\n",
            "Epoch 88/100\n",
            "2/2 [==============================] - 0s 38ms/step - loss: 4.3334e-04 - acc: 1.0000 - val_loss: 2.4638 - val_acc: 0.5771\n",
            "Epoch 89/100\n",
            "2/2 [==============================] - 0s 36ms/step - loss: 6.2248e-04 - acc: 1.0000 - val_loss: 2.4714 - val_acc: 0.5771\n",
            "Epoch 90/100\n",
            "2/2 [==============================] - 0s 35ms/step - loss: 4.3026e-04 - acc: 1.0000 - val_loss: 2.4794 - val_acc: 0.5771\n",
            "Epoch 91/100\n",
            "2/2 [==============================] - 0s 37ms/step - loss: 4.7333e-04 - acc: 1.0000 - val_loss: 2.4875 - val_acc: 0.5771\n",
            "Epoch 92/100\n",
            "2/2 [==============================] - 0s 36ms/step - loss: 4.5150e-04 - acc: 1.0000 - val_loss: 2.4957 - val_acc: 0.5771\n",
            "Epoch 93/100\n",
            "2/2 [==============================] - 0s 40ms/step - loss: 3.3188e-04 - acc: 1.0000 - val_loss: 2.5033 - val_acc: 0.5771\n",
            "Epoch 94/100\n",
            "2/2 [==============================] - 0s 36ms/step - loss: 3.7086e-04 - acc: 1.0000 - val_loss: 2.5109 - val_acc: 0.5771\n",
            "Epoch 95/100\n",
            "2/2 [==============================] - 0s 36ms/step - loss: 4.4229e-04 - acc: 1.0000 - val_loss: 2.5181 - val_acc: 0.5771\n",
            "Epoch 96/100\n",
            "2/2 [==============================] - 0s 35ms/step - loss: 4.3175e-04 - acc: 1.0000 - val_loss: 2.5242 - val_acc: 0.5771\n",
            "Epoch 97/100\n",
            "2/2 [==============================] - 0s 52ms/step - loss: 4.1774e-04 - acc: 1.0000 - val_loss: 2.5302 - val_acc: 0.5771\n",
            "Epoch 98/100\n",
            "2/2 [==============================] - 0s 36ms/step - loss: 2.9750e-04 - acc: 1.0000 - val_loss: 2.5371 - val_acc: 0.5771\n",
            "Epoch 99/100\n",
            "2/2 [==============================] - 0s 37ms/step - loss: 3.0410e-04 - acc: 1.0000 - val_loss: 2.5440 - val_acc: 0.5771\n",
            "Epoch 100/100\n",
            "2/2 [==============================] - 0s 36ms/step - loss: 4.5240e-04 - acc: 1.0000 - val_loss: 2.5507 - val_acc: 0.5771\n"
          ]
        }
      ]
    },
    {
      "cell_type": "code",
      "source": [
        "loss, acc = model2.evaluate(X_test, y_test)"
      ],
      "metadata": {
        "colab": {
          "base_uri": "https://localhost:8080/"
        },
        "id": "m6VvslXPEJIf",
        "outputId": "e1dd0753-409e-42ae-fe49-2115a4e42a03"
      },
      "execution_count": 54,
      "outputs": [
        {
          "output_type": "stream",
          "name": "stdout",
          "text": [
            "7/7 [==============================] - 0s 5ms/step - loss: 2.5507 - acc: 0.5771\n"
          ]
        }
      ]
    },
    {
      "cell_type": "code",
      "source": [
        "prediction [ 'deeplearning_model2' ] = model2.predict ( X_test )"
      ],
      "metadata": {
        "colab": {
          "base_uri": "https://localhost:8080/"
        },
        "id": "XuBTXMbHV0Ka",
        "outputId": "5fb4b55f-2c33-440d-edc5-f81c906f6422"
      },
      "execution_count": 55,
      "outputs": [
        {
          "output_type": "stream",
          "name": "stdout",
          "text": [
            "7/7 [==============================] - 1s 4ms/step\n"
          ]
        }
      ]
    },
    {
      "cell_type": "code",
      "source": [
        "from sklearn.naive_bayes import MultinomialNB\n",
        "\n",
        "Mmodel = MultinomialNB ().fit ( X_train, y_train.ravel() )\n",
        "prediction [ 'Multinomial' ] = Mmodel.predict ( X_test )\n",
        "\n",
        "# %%\n",
        "from sklearn.naive_bayes import BernoulliNB\n",
        "\n",
        "Bmodel = BernoulliNB ().fit ( X_train, y_train.ravel(), )\n",
        "prediction [ 'Bernoulli' ] = Bmodel.predict ( X_test )\n",
        "\n",
        "# %%\n",
        "from sklearn import linear_model\n",
        "\n",
        "logreg = linear_model.LogisticRegression ( C = 1e5, solver = 'lbfgs', max_iter = 300 )\n",
        "logreg.fit ( X_train, y_train.ravel() )\n",
        "prediction [ 'Logistic' ] = logreg.predict ( X_test )\n",
        "\n",
        "# %%\n",
        "# Import the model we are using\n",
        "from sklearn.ensemble import RandomForestRegressor\n",
        "\n",
        "# Instantiate model with 100 decision trees\n",
        "rf = RandomForestRegressor ( n_estimators = 100, random_state = 42 )\n",
        "# Train the model on training data\n",
        "rf.fit ( X_train, y_train.ravel() )\n",
        "\n",
        "r_predicted = rf.predict ( X_test )\n",
        "r_predicted = np.where ( r_predicted > 0.5, 1, 0 )\n",
        "prediction [ 'RandomForest' ] = r_predicted\n",
        "\n",
        "#SVM\n",
        "from sklearn import svm\n",
        "clf = svm.SVC()\n",
        "clf.fit(X_train, y_train.ravel())\n",
        "prediction [ 'SupportVectorMachine' ] = clf.predict ( X_test )\n",
        "\n",
        "#NearestNeighbors\n",
        "from sklearn.neighbors import KNeighborsClassifier\n",
        "neigh = KNeighborsClassifier(n_neighbors=3)\n",
        "neigh.fit(X_train, y_train.ravel())\n",
        "prediction [ 'KNeighborsClassifier' ] = neigh.predict ( X_test )"
      ],
      "metadata": {
        "id": "0-8mILtdW_EY"
      },
      "execution_count": 56,
      "outputs": []
    },
    {
      "cell_type": "code",
      "source": [
        "from sklearn import metrics\n",
        "\n",
        "keys = list(prediction.keys())\n",
        "\n",
        "another = {\n",
        "\tkeys[2] : { 'precision' : round(metrics.precision_score(y_test,prediction[keys[2]]) * 100),\n",
        "\t\t\t\t'recall' : round(metrics.recall_score(y_test,prediction[keys[2]]) * 100),\n",
        "\t\t\t\t'f1-score' : round(metrics.f1_score(y_test,prediction[keys[2]]) * 100)},\n",
        "\tkeys[3] : { 'precision' : round(metrics.precision_score(y_test,prediction[keys[3]]) * 100),\n",
        "\t\t\t\t'recall' : round(metrics.recall_score(y_test,prediction[keys[3]]) * 100),\n",
        "\t\t\t\t'f1-score' : round(metrics.f1_score(y_test,prediction[keys[3]]) * 100)},\n",
        "\tkeys[4] : { 'precision' : round(metrics.precision_score(y_test,prediction[keys[4]]) * 100),\n",
        "\t\t\t\t'recall' : round(metrics.recall_score(y_test,prediction[keys[4]]) * 100),\n",
        "\t\t\t\t'f1-score' : round(metrics.f1_score(y_test,prediction[keys[4]]) * 100)},\n",
        "\tkeys[5] : { 'precision' : round(metrics.precision_score(y_test,prediction[keys[5]]) * 100),\n",
        "\t\t\t\t'recall' : round(metrics.recall_score(y_test,prediction[keys[5]]) * 100),\n",
        "\t\t\t\t'f1-score' : round(metrics.f1_score(y_test,prediction[keys[5]]) * 100)},\n",
        "  keys[6] : { 'precision' : round(metrics.precision_score(y_test,prediction[keys[6]]) * 100),\n",
        "\t\t\t\t'recall' : round(metrics.recall_score(y_test,prediction[keys[6]]) * 100),\n",
        "\t\t\t\t'f1-score' : round(metrics.f1_score(y_test,prediction[keys[6]]) * 100)},\n",
        "  keys[7] : { 'precision' : round(metrics.precision_score(y_test,prediction[keys[7]]) * 100),\n",
        "\t\t\t\t'recall' : round(metrics.recall_score(y_test,prediction[keys[7]]) * 100),\n",
        "\t\t\t\t'f1-score' : round(metrics.f1_score(y_test,prediction[keys[7]]) * 100)}\n",
        "}\n",
        "\n",
        "precision = [another[keys[2]]['precision'],another[keys[3]]['precision'],another[keys[4]]['precision'],another[keys[5]]['precision'],another[keys[6]]['precision'],another[keys[7]]['precision']]\n",
        "recall = [another[keys[2]]['recall'],another[keys[3]]['recall'],another[keys[4]]['recall'],another[keys[5]]['recall'],another[keys[6]]['recall'],another[keys[7]]['recall']]\n",
        "f1_score = [another[keys[2]]['f1-score'],another[keys[3]]['f1-score'],another[keys[4]]['f1-score'],another[keys[5]]['f1-score'],another[keys[6]]['f1-score'],another[keys[7]]['f1-score']]\n",
        "\n",
        "df = pd.DataFrame({'Precision': precision,\n",
        "                    'Recall': recall,\n",
        "\t\t\t\t   \t'F1-Score' : f1_score}, index=keys[2:])\n",
        "ax = df.plot.bar(rot=0, color={\"Precision\": \"green\", \"Recall\": \"red\", \"F1-Score\": \"blue\"}, figsize = (15,12))\n",
        "plt.xticks(rotation = 45,ha='right')\n",
        "plt.show()"
      ],
      "metadata": {
        "colab": {
          "base_uri": "https://localhost:8080/",
          "height": 777
        },
        "id": "wa-aOSU-kmu_",
        "outputId": "18ab4286-dc77-4080-973e-45ba01764b81"
      },
      "execution_count": 57,
      "outputs": [
        {
          "output_type": "display_data",
          "data": {
            "text/plain": [
              "<Figure size 1080x864 with 1 Axes>"
            ],
            "image/png": "[encoded data removed]"
          },
          "metadata": {
            "needs_background": "light"
          }
        }
      ]
    },
    {
      "cell_type": "code",
      "source": [
        "accuracies = {\n",
        "\t\t\t  keys[2] : round(metrics.accuracy_score(y_test,prediction[keys[2]]) * 100),\n",
        "\t\t\t  keys[3] : round(metrics.accuracy_score(y_test,prediction[keys[3]]) * 100),\n",
        "\t\t\t  keys[4] : round(metrics.accuracy_score(y_test,prediction[keys[4]]) * 100),\n",
        "\t\t\t  keys[5] : round(metrics.accuracy_score(y_test,prediction[keys[5]]) * 100),\n",
        "        keys[6] : round(metrics.accuracy_score(y_test,prediction[keys[6]]) * 100),\n",
        "        keys[7] : round(metrics.accuracy_score(y_test,prediction[keys[7]]) * 100)\n",
        "\t\t\t  }\n",
        "\n",
        "models = list(accuracies.keys())\n",
        "values = list(accuracies.values())\n",
        "\n",
        "fig = plt.figure(figsize = (10, 8))\n",
        "# creating the bar plot\n",
        "plt.bar(models, values, width = 0.4)\n",
        "plt.xticks(rotation = 45,ha='right')\n",
        "plt.xlabel(\"Classifiers\")\n",
        "plt.ylabel(\"Accuracy\")\n",
        "plt.show()"
      ],
      "metadata": {
        "colab": {
          "base_uri": "https://localhost:8080/",
          "height": 574
        },
        "id": "14dI3okIk6si",
        "outputId": "e7b4dacf-5a44-4c03-d552-00b443fdcd74"
      },
      "execution_count": 58,
      "outputs": [
        {
          "output_type": "display_data",
          "data": {
            "text/plain": [
              "<Figure size 720x576 with 1 Axes>"
            ],
            "image/png": "[encoded data removed]"
          },
          "metadata": {
            "needs_background": "light"
          }
        }
      ]
    },
    {
      "cell_type": "code",
      "source": [
        "cmp = 0\n",
        "plt.figure(figsize=(15,6))\n",
        "\n",
        "colors = [ 'b', 'g', 'y', 'm', 'k', 'p', 'r', 'o' ]\n",
        "for model, predicted in prediction.items ():\n",
        "\tfalse_positive_rate, true_positive_rate, thresholds = roc_curve ( y_test, predicted )\n",
        "\troc_auc = auc ( false_positive_rate, true_positive_rate )\n",
        "\tplt.plot ( false_positive_rate, true_positive_rate, colors [ cmp ], label = '%s: AUC %0.2f' % (model, roc_auc) )\n",
        "\tcmp += 1\n",
        "\n",
        "plt.title ( 'Classifiers comparison with ROC' )\n",
        "plt.legend ( loc = 'lower right' )\n",
        "plt.plot ( [ 0, 1 ], [ 0, 1 ], 'r--' )\n",
        "plt.xlim ( [ -0.1, 1.2 ] )\n",
        "plt.ylim ( [ -0.1, 1.2 ] )\n",
        "plt.ylabel ( 'True Positive Rate' )\n",
        "plt.xlabel ( 'False Positive Rate' )\n",
        "plt.show ()"
      ],
      "metadata": {
        "colab": {
          "base_uri": "https://localhost:8080/",
          "height": 404
        },
        "id": "3Qq7OYFJUu9G",
        "outputId": "df541ebd-538f-4d55-866d-2275af5c27be"
      },
      "execution_count": 59,
      "outputs": [
        {
          "output_type": "display_data",
          "data": {
            "text/plain": [
              "<Figure size 1080x432 with 1 Axes>"
            ],
            "image/png": "[encoded data removed]"
          },
          "metadata": {
            "needs_background": "light"
          }
        }
      ]
    }
  ]
}